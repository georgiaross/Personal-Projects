{
 "cells": [
  {
   "cell_type": "code",
   "execution_count": 1,
   "id": "44eba1a4",
   "metadata": {
    "scrolled": false
   },
   "outputs": [
    {
     "name": "stdout",
     "output_type": "stream",
     "text": [
      "zsh:1: command not found: pip\r\n"
     ]
    }
   ],
   "source": [
    "!pip install -q mediapipe==0.10.0"
   ]
  },
  {
   "cell_type": "markdown",
   "id": "48527503",
   "metadata": {},
   "source": [
    "For my MacBook lol"
   ]
  },
  {
   "cell_type": "code",
   "execution_count": null,
   "id": "61609ae9",
   "metadata": {},
   "outputs": [],
   "source": [
    "!python3 -m pip install -q mediapipe==0.10.0"
   ]
  },
  {
   "cell_type": "markdown",
   "id": "2da01381",
   "metadata": {},
   "source": [
    "**Code for detecting color blue through Intel RealSense D455 Camera (livestream)**"
   ]
  },
  {
   "cell_type": "code",
   "execution_count": null,
   "id": "0c2a3463",
   "metadata": {
    "scrolled": false
   },
   "outputs": [],
   "source": [
    "import cv2 as cv\n",
    "import numpy as np\n",
    "import cv2\n",
    "vid = cv2.VideoCapture(0)\n",
    "while(1):\n",
    "    # Take each frame\n",
    "    _, frame = vid.read()\n",
    "    # Convert BGR to HSV\n",
    "    hsv = cv2.cvtColor(frame, cv2.COLOR_BGR2HSV)\n",
    "    # define range of blue color in HSV\n",
    "    lower_blue = np.array([80,160,50]) # The RealSense Camera HSV values are different than the norm\n",
    "    upper_blue = np.array([130,255,255])\n",
    "    # Threshold the HSV image to get only blue colors\n",
    "    mask = cv.inRange(hsv, lower_blue, upper_blue)\n",
    "    # Bitwise-AND mask and original image\n",
    "    res = cv.bitwise_and(frame,frame, mask= mask)\n",
    "    cv.imshow('frame',frame)\n",
    "    cv.imshow('mask',mask)\n",
    "    cv.imshow('res',res)\n",
    "    if cv2.waitKey(5) & 0xFF ==ord(\"q\"):\n",
    "        break\n",
    "cv.destroyAllWindows()"
   ]
  },
  {
   "cell_type": "markdown",
   "id": "03ebb9f8",
   "metadata": {},
   "source": [
    "**Face detection code**"
   ]
  },
  {
   "cell_type": "code",
   "execution_count": null,
   "id": "c168d959",
   "metadata": {
    "scrolled": false
   },
   "outputs": [],
   "source": [
    "import cv2\n",
    "import mediapipe as mp\n",
    "\n",
    "#Variables\n",
    "face_detection=mp.solutions.face_detection.FaceDetection()\n",
    "drawing_utils=mp.solutions.drawing_utils\n",
    "\n",
    "vid = cv2.VideoCapture(0) #Change value according to input\n",
    "\n",
    "while vid.isOpened():\n",
    "    success,frame = vid.read()\n",
    "    #Face detection\n",
    "    frame=cv2.cvtColor(frame,cv2.COLOR_BGR2RGB) #convert to rgb for mp\n",
    "    endframe=face_detection.process(frame)\n",
    "    #Display\n",
    "    frame=cv2.cvtColor(frame,cv2.COLOR_RGB2BGR) #convert back to bgr for cv\n",
    "    if endframe.detections:\n",
    "        for detection in endframe.detections:\n",
    "            drawing_utils.draw_detection(frame,detection)\n",
    "    cv2.imshow(\"Webcam\",frame)\n",
    "    if cv2.waitKey(5) & 0xFF ==ord(\"q\"):\n",
    "        break"
   ]
  },
  {
   "cell_type": "markdown",
   "id": "ed926f5a",
   "metadata": {},
   "source": [
    "**Object detection code**"
   ]
  },
  {
   "cell_type": "code",
   "execution_count": 2,
   "id": "1f021312",
   "metadata": {
    "scrolled": true
   },
   "outputs": [],
   "source": [
    "!wget -q -O efficientdet.tflite -q https://storage.googleapis.com/mediapipe-models/object_detector/efficientdet_lite0/int8/1/efficientdet_lite0.tflite\n",
    "\n",
    "import cv2\n",
    "import mediapipe as mp\n",
    "import numpy as np\n",
    "from mediapipe.tasks import python\n",
    "from mediapipe.tasks.python import vision\n",
    "\n",
    "MARGIN = 10  # pixels\n",
    "ROW_SIZE = 10  # pixels\n",
    "FONT_SIZE = 2\n",
    "FONT_THICKNESS = 1\n",
    "TEXT_COLOR = (255, 0, 0)  # red\n",
    "\n",
    "#Capture webcam video according to input\n",
    "vid = cv2.VideoCapture(0)\n",
    "\n",
    "while vid.isOpened():\n",
    "    success,frame = vid.read()\n",
    "    \n",
    "    #Variables\n",
    "    VisionRunningMode = mp.tasks.vision.RunningMode\n",
    "    base_options = python.BaseOptions(model_asset_path='efficientdet.tflite')\n",
    "    options = vision.ObjectDetectorOptions(base_options=base_options,\n",
    "                                       score_threshold=0.5)\n",
    "    detector = vision.ObjectDetector.create_from_options(options)\n",
    "    \n",
    "    def visualize(\n",
    "        frame,\n",
    "        detection_result\n",
    "    ) -> np.ndarray:\n",
    "    \n",
    "      for detection in detection_result.detections:\n",
    "        # Draw bounding_box\n",
    "        bbox = detection.bounding_box\n",
    "        start_point = bbox.origin_x, bbox.origin_y\n",
    "        end_point = bbox.origin_x + bbox.width, bbox.origin_y + bbox.height\n",
    "        cv2.rectangle(frame, start_point, end_point, TEXT_COLOR, 3)\n",
    "        # Draw label and score\n",
    "        category = detection.categories[0]\n",
    "        category_name = category.category_name\n",
    "        probability = round(category.score, 2)\n",
    "        result_text = category_name + ' (' + str(probability) + ')'\n",
    "        text_location = (MARGIN + bbox.origin_x,\n",
    "                         MARGIN + ROW_SIZE + bbox.origin_y)\n",
    "        cv2.putText(frame, result_text, text_location, cv2.FONT_HERSHEY_PLAIN,\n",
    "                    FONT_SIZE, TEXT_COLOR, FONT_THICKNESS)\n",
    "\n",
    "      return frame\n",
    "\n",
    "    frame=cv2.cvtColor(frame,cv2.COLOR_BGR2RGB)\n",
    "    frame = mp.Image(image_format=mp.ImageFormat.SRGB, data=frame)\n",
    "    detection_result = detector.detect(frame)\n",
    "    image_copy = np.copy(frame.numpy_view())\n",
    "    annotated_frame = visualize(image_copy, detection_result)\n",
    "    frame = cv2.cvtColor(annotated_frame, cv2.COLOR_BGR2RGB)\n",
    "    cv2.imshow(\"Webcam\",frame)\n",
    "    if cv2.waitKey(5) & 0xFF ==ord(\"q\"):\n",
    "        break\n",
    "        #yeehaw"
   ]
  },
  {
   "cell_type": "code",
   "execution_count": null,
   "id": "3a5bba44",
   "metadata": {},
   "outputs": [],
   "source": []
  }
 ],
 "metadata": {
  "kernelspec": {
   "display_name": "Python 3 (ipykernel)",
   "language": "python",
   "name": "python3"
  },
  "language_info": {
   "codemirror_mode": {
    "name": "ipython",
    "version": 3
   },
   "file_extension": ".py",
   "mimetype": "text/x-python",
   "name": "python",
   "nbconvert_exporter": "python",
   "pygments_lexer": "ipython3",
   "version": "3.11.4"
  }
 },
 "nbformat": 4,
 "nbformat_minor": 5
}
